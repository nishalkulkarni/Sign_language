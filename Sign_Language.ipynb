{
  "nbformat": 4,
  "nbformat_minor": 0,
  "metadata": {
    "colab": {
      "name": "Sign_Language.ipynb",
      "provenance": [],
      "collapsed_sections": []
    },
    "kernelspec": {
      "name": "python3",
      "display_name": "Python 3"
    }
  },
  "cells": [
    {
      "cell_type": "code",
      "metadata": {
        "id": "22-4k_tuog4w",
        "colab_type": "code",
        "outputId": "e7876572-3c98-48dc-ba63-1863b766043e",
        "colab": {
          "base_uri": "https://localhost:8080/",
          "height": 34
        }
      },
      "source": [
        "from google.colab import drive\n",
        "drive.mount('/content/drive')"
      ],
      "execution_count": 1,
      "outputs": [
        {
          "output_type": "stream",
          "text": [
            "Drive already mounted at /content/drive; to attempt to forcibly remount, call drive.mount(\"/content/drive\", force_remount=True).\n"
          ],
          "name": "stdout"
        }
      ]
    },
    {
      "cell_type": "code",
      "metadata": {
        "id": "Qde7x798n_rv",
        "colab_type": "code",
        "outputId": "2739a7ad-186c-429b-f826-cbfb355325ce",
        "colab": {
          "base_uri": "https://localhost:8080/",
          "height": 34
        }
      },
      "source": [
        "import tensorflow as tf\n",
        "from keras.models import Sequential\n",
        "from keras.layers import Dense, MaxPooling2D, Flatten, Conv2D,Dropout\n",
        "import numpy as np\n",
        "from skimage import io,transform\n",
        "import pandas as pd\n",
        "import matplotlib.pyplot as plt\n"
      ],
      "execution_count": 2,
      "outputs": [
        {
          "output_type": "stream",
          "text": [
            "Using TensorFlow backend.\n"
          ],
          "name": "stderr"
        }
      ]
    },
    {
      "cell_type": "code",
      "metadata": {
        "id": "7McXlYYupuQP",
        "colab_type": "code",
        "outputId": "f53770a8-35d0-42bc-a506-ba5db402adb2",
        "colab": {
          "base_uri": "https://localhost:8080/",
          "height": 34
        }
      },
      "source": [
        "train=pd.read_csv(\"sign_mnist_train.csv\")\n",
        "test=pd.read_csv(\"sign_mnist_test.csv\")\n",
        "y_train=train['label'].values\n",
        "y_test=test['label'].values\n",
        "X_train=train.drop(\"label\",axis=1)\n",
        "X_test=test.drop(\"label\",axis=1)\n",
        "\n",
        "type(X_train)"
      ],
      "execution_count": 3,
      "outputs": [
        {
          "output_type": "execute_result",
          "data": {
            "text/plain": [
              "pandas.core.frame.DataFrame"
            ]
          },
          "metadata": {
            "tags": []
          },
          "execution_count": 3
        }
      ]
    },
    {
      "cell_type": "code",
      "metadata": {
        "id": "lrVqAjHXUQgY",
        "colab_type": "code",
        "colab": {}
      },
      "source": [
        "X_train= np.array(X_train)\n",
        "X_train=X_train/255\n",
        "X_train=X_train.reshape(X_train.shape[0],28,28,1)\n",
        "X_test= np.array(X_test)\n",
        "X_test=X_test/ 255\n",
        "X_test=X_test.reshape(X_test.shape[0],28,28,1)"
      ],
      "execution_count": 0,
      "outputs": []
    },
    {
      "cell_type": "code",
      "metadata": {
        "id": "G-W1aYFRsiPA",
        "colab_type": "code",
        "outputId": "15535a1f-51ed-44f0-e8db-cc166821303f",
        "colab": {
          "base_uri": "https://localhost:8080/",
          "height": 51
        }
      },
      "source": [
        "\n",
        "from sklearn.preprocessing import LabelBinarizer\n",
        "label_binarizer = LabelBinarizer()\n",
        "y_train = label_binarizer.fit_transform(y_train)\n",
        "y_test = label_binarizer.fit_transform(y_test)\n",
        "print(X_test.shape)\n",
        "type(y_train)"
      ],
      "execution_count": 5,
      "outputs": [
        {
          "output_type": "stream",
          "text": [
            "(7172, 28, 28, 1)\n"
          ],
          "name": "stdout"
        },
        {
          "output_type": "execute_result",
          "data": {
            "text/plain": [
              "numpy.ndarray"
            ]
          },
          "metadata": {
            "tags": []
          },
          "execution_count": 5
        }
      ]
    },
    {
      "cell_type": "code",
      "metadata": {
        "id": "Y6GPn8bzxXnt",
        "colab_type": "code",
        "outputId": "1c55f743-fb74-43db-877f-78a9f615688f",
        "colab": {
          "base_uri": "https://localhost:8080/",
          "height": 282
        }
      },
      "source": [
        "plt.imshow(X_train[4].reshape(28,28),cmap=\"gray\")\n",
        "print(y_train[4])"
      ],
      "execution_count": 6,
      "outputs": [
        {
          "output_type": "stream",
          "text": [
            "[0 0 0 0 0 0 0 0 0 0 0 0 1 0 0 0 0 0 0 0 0 0 0 0]\n"
          ],
          "name": "stdout"
        },
        {
          "output_type": "display_data",
          "data": {
            "image/png": "[encoded data removed]",
            "text/plain": [
              "<Figure size 432x288 with 1 Axes>"
            ]
          },
          "metadata": {
            "tags": [],
            "needs_background": "light"
          }
        }
      ]
    },
    {
      "cell_type": "code",
      "metadata": {
        "id": "Ww0kg7oWy2zz",
        "colab_type": "code",
        "colab": {}
      },
      "source": [
        "model = Sequential()\n",
        "model.add(Conv2D(64, kernel_size=(3,3), activation = 'relu', input_shape=(28, 28 ,1) ))\n",
        "model.add(MaxPooling2D(pool_size = (2, 2)))\n",
        "\n",
        "model.add(Conv2D(64, kernel_size = (3, 3), activation = 'relu'))\n",
        "model.add(MaxPooling2D(pool_size = (2, 2)))\n",
        "\n",
        "model.add(Conv2D(64, kernel_size = (3, 3), activation = 'relu'))\n",
        "model.add(MaxPooling2D(pool_size = (2, 2)))\n",
        "\n",
        "model.add(Flatten())\n",
        "model.add(Dense(128, activation = 'relu'))\n",
        "model.add(Dropout(0.20))\n",
        "\n",
        "model.add(Dense(24, activation = 'softmax'))\n",
        "\n",
        "model.compile(loss=\"categorical_crossentropy\",optimizer=\"adam\",metrics=['accuracy'])"
      ],
      "execution_count": 0,
      "outputs": []
    },
    {
      "cell_type": "code",
      "metadata": {
        "id": "KQ6lXVCw0r1f",
        "colab_type": "code",
        "outputId": "5b4ab9dd-017d-415c-cc64-7689e0c9c2ce",
        "colab": {
          "base_uri": "https://localhost:8080/",
          "height": 581
        }
      },
      "source": [
        "model.fit(X_train,y_train,batch_size=128,epochs=15,validation_split=0.20)\n"
      ],
      "execution_count": 8,
      "outputs": [
        {
          "output_type": "stream",
          "text": [
            "Train on 15761 samples, validate on 3941 samples\n",
            "Epoch 1/15\n",
            "15761/15761 [==============================] - 20s 1ms/step - loss: 2.8091 - accuracy: 0.1539 - val_loss: 1.9265 - val_accuracy: 0.4268\n",
            "Epoch 2/15\n",
            "15761/15761 [==============================] - 20s 1ms/step - loss: 1.5507 - accuracy: 0.4892 - val_loss: 1.0268 - val_accuracy: 0.6889\n",
            "Epoch 3/15\n",
            "15761/15761 [==============================] - 20s 1ms/step - loss: 0.9386 - accuracy: 0.6793 - val_loss: 0.6201 - val_accuracy: 0.8051\n",
            "Epoch 4/15\n",
            "15761/15761 [==============================] - 21s 1ms/step - loss: 0.6545 - accuracy: 0.7717 - val_loss: 0.4761 - val_accuracy: 0.8457\n",
            "Epoch 5/15\n",
            "15761/15761 [==============================] - 20s 1ms/step - loss: 0.4670 - accuracy: 0.8409 - val_loss: 0.2998 - val_accuracy: 0.9112\n",
            "Epoch 6/15\n",
            "15761/15761 [==============================] - 20s 1ms/step - loss: 0.3424 - accuracy: 0.8857 - val_loss: 0.2064 - val_accuracy: 0.9399\n",
            "Epoch 7/15\n",
            "15761/15761 [==============================] - 20s 1ms/step - loss: 0.2542 - accuracy: 0.9171 - val_loss: 0.1382 - val_accuracy: 0.9614\n",
            "Epoch 8/15\n",
            "15761/15761 [==============================] - 20s 1ms/step - loss: 0.1835 - accuracy: 0.9421 - val_loss: 0.1359 - val_accuracy: 0.9602\n",
            "Epoch 9/15\n",
            "15761/15761 [==============================] - 20s 1ms/step - loss: 0.1437 - accuracy: 0.9552 - val_loss: 0.0883 - val_accuracy: 0.9754\n",
            "Epoch 10/15\n",
            "15761/15761 [==============================] - 20s 1ms/step - loss: 0.1097 - accuracy: 0.9674 - val_loss: 0.0571 - val_accuracy: 0.9904\n",
            "Epoch 11/15\n",
            "15761/15761 [==============================] - 20s 1ms/step - loss: 0.0847 - accuracy: 0.9766 - val_loss: 0.0559 - val_accuracy: 0.9876\n",
            "Epoch 12/15\n",
            "15761/15761 [==============================] - 20s 1ms/step - loss: 0.0708 - accuracy: 0.9794 - val_loss: 0.0258 - val_accuracy: 0.9954\n",
            "Epoch 13/15\n",
            "15761/15761 [==============================] - 20s 1ms/step - loss: 0.0558 - accuracy: 0.9844 - val_loss: 0.0243 - val_accuracy: 0.9964\n",
            "Epoch 14/15\n",
            "15761/15761 [==============================] - 20s 1ms/step - loss: 0.0385 - accuracy: 0.9912 - val_loss: 0.0139 - val_accuracy: 0.9985\n",
            "Epoch 15/15\n",
            "15761/15761 [==============================] - 20s 1ms/step - loss: 0.0386 - accuracy: 0.9892 - val_loss: 0.0269 - val_accuracy: 0.9937\n"
          ],
          "name": "stdout"
        },
        {
          "output_type": "execute_result",
          "data": {
            "text/plain": [
              "<keras.callbacks.callbacks.History at 0x7f1bfcd7df98>"
            ]
          },
          "metadata": {
            "tags": []
          },
          "execution_count": 8
        }
      ]
    },
    {
      "cell_type": "code",
      "metadata": {
        "id": "0LNBbmJNjcCP",
        "colab_type": "code",
        "colab": {
          "base_uri": "https://localhost:8080/",
          "height": 51
        },
        "outputId": "8a2a8784-bd39-4a2a-b76b-ad7f406743c4"
      },
      "source": [
        "model.evaluate(X_test,y_test,batch_size=64)"
      ],
      "execution_count": 9,
      "outputs": [
        {
          "output_type": "stream",
          "text": [
            "7172/7172 [==============================] - 2s 310us/step\n"
          ],
          "name": "stdout"
        },
        {
          "output_type": "execute_result",
          "data": {
            "text/plain": [
              "[0.3985204189367555, 0.896681547164917]"
            ]
          },
          "metadata": {
            "tags": []
          },
          "execution_count": 9
        }
      ]
    },
    {
      "cell_type": "code",
      "metadata": {
        "id": "Es_4FpfMkMq-",
        "colab_type": "code",
        "colab": {}
      },
      "source": [
        "model.save(\"model.h5\")"
      ],
      "execution_count": 0,
      "outputs": []
    }
  ]
}